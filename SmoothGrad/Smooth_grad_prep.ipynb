{
 "nbformat": 4,
 "nbformat_minor": 0,
 "metadata": {
  "colab": {
   "name": "Smooth_grad_prep.ipynb",
   "provenance": [],
   "collapsed_sections": []
  },
  "kernelspec": {
   "name": "python3",
   "display_name": "Python 3"
  },
  "language_info": {
   "name": "python"
  },
  "accelerator": "GPU"
 },
 "cells": [
  {
   "cell_type": "code",
   "metadata": {
    "id": "l99SmnOYoBs5"
   },
   "source": [
    "import tensorflow as tf\n",
    "import numpy as np\n",
    "from tensorflow import keras"
   ],
   "execution_count": null,
   "outputs": []
  },
  {
   "cell_type": "markdown",
   "metadata": {
    "id": "Tum3ajY0MpQj"
   },
   "source": [
    "load model"
   ]
  },
  {
   "cell_type": "code",
   "metadata": {
    "id": "boZ081oVoLDs"
   },
   "source": [
    "model = tf.keras.models.load_model(\"Helcaraxe_Iobs_model\")"
   ],
   "execution_count": null,
   "outputs": []
  },
  {
   "cell_type": "markdown",
   "metadata": {
    "id": "Qa2dRBjEMrGs"
   },
   "source": [
    "Change the last layer from using a sigmoid function to use a softmax function. For this the last layer needs to be removed and replaced."
   ]
  },
  {
   "cell_type": "code",
   "metadata": {
    "id": "1tqSLG2noy2L"
   },
   "source": [
    "#freeze model\n",
    "model.trainable = False\n",
    "#Define input layer\n",
    "input = model.input\n",
    "#Remove the last layer\n",
    "model.layers.pop()\n",
    "#Define output layer\n",
    "class_layer = tf.keras.layers.Dense(2, activation='softmax', name=\"class_layer\")\n",
    "output = class_layer(model.layers[-1].output)\n",
    "#build new models with new output layer\n",
    "class_model = tf.keras.models.Model(inputs=input, outputs=[output])\n",
    "#compile new model\n",
    "OPTI = tf.keras.optimizers.Nadam(learning_rate=0.00001)\n",
    "class_model.compile(optimizer=OPTI,\n",
    "              loss=\"binary_crossentropy\")"
   ],
   "execution_count": null,
   "outputs": []
  },
  {
   "cell_type": "markdown",
   "metadata": {
    "id": "uveTDexNNIGb"
   },
   "source": [
    "New model has to be trained very brief to connect the new layer to the old model. Therefore plots and models are prepared like in model_trainer.ipynb"
   ]
  },
  {
   "cell_type": "code",
   "metadata": {
    "id": "T2QU7U4idly1",
    "colab": {
     "base_uri": "https://localhost:8080/"
    },
    "outputId": "6539872f-b989-4637-9f60-9b6294aec2cc"
   },
   "source": [
    "#Get data for short and low retrain\n",
    "plots = np.load(\"helcaraxe_elenwe_binplots_train.npy\")\n",
    "labels = np.load(\"helcaraxe_elenwe_train_labels.npy\", allow_pickle=True)\n",
    "\n",
    "!pip3 install pickle5\n",
    "import pickle5 as pickle\n",
    "with open(\"helcaraxe_elenwe_train.pkl\", \"rb\") as fh:\n",
    "  meta_df = pickle.load(fh)\n",
    "I_index = meta_df.loc[meta_df[\"F_o_I\"] == \"I\",\"F_o_I\"].index\n",
    "F_index = meta_df.loc[meta_df[\"F_o_I\"] == \"F\",\"F_o_I\"].index\n",
    "\n",
    "#select index to be used \n",
    "plots = plots[I_index]\n",
    "labels = labels[I_index]\n",
    "\n",
    "#Preprocess histograms\n",
    "resh_plots = plots.reshape(len(plots),80,80,1)\n",
    "resh_plots = tf.image.per_image_standardization(resh_plots)\n",
    "fin_plots = np.asarray(resh_plots).astype(np.float32)\n",
    "labels = np.asarray(labels).astype(np.float32)\n",
    "labels = tf.keras.utils.to_categorical(labels, num_classes=2)\n",
    "fin_plots = tf.convert_to_tensor(fin_plots)\n",
    "#Split sets\n",
    "train_size_lim = int((len(fin_plots)*0.8))\n",
    "train_plot =  fin_plots[:train_size_lim]\n",
    "val_plot = fin_plots[train_size_lim:]\n",
    "train_label = labels[:train_size_lim]\n",
    "val_label = labels[train_size_lim:]"
   ],
   "execution_count": null,
   "outputs": [
    {
     "output_type": "stream",
     "text": [
      "Collecting pickle5\n",
      "  Downloading pickle5-0.0.11.tar.gz (132 kB)\n",
      "\u001B[?25l\r\u001B[K     |██▌                             | 10 kB 21.8 MB/s eta 0:00:01\r\u001B[K     |█████                           | 20 kB 28.6 MB/s eta 0:00:01\r\u001B[K     |███████▍                        | 30 kB 21.5 MB/s eta 0:00:01\r\u001B[K     |██████████                      | 40 kB 17.0 MB/s eta 0:00:01\r\u001B[K     |████████████▍                   | 51 kB 14.5 MB/s eta 0:00:01\r\u001B[K     |██████████████▉                 | 61 kB 12.5 MB/s eta 0:00:01\r\u001B[K     |█████████████████▍              | 71 kB 12.0 MB/s eta 0:00:01\r\u001B[K     |███████████████████▉            | 81 kB 13.1 MB/s eta 0:00:01\r\u001B[K     |██████████████████████▎         | 92 kB 13.7 MB/s eta 0:00:01\r\u001B[K     |████████████████████████▉       | 102 kB 12.9 MB/s eta 0:00:01\r\u001B[K     |███████████████████████████▎    | 112 kB 12.9 MB/s eta 0:00:01\r\u001B[K     |█████████████████████████████▊  | 122 kB 12.9 MB/s eta 0:00:01\r\u001B[K     |████████████████████████████████| 132 kB 12.9 MB/s \n",
      "\u001B[?25hBuilding wheels for collected packages: pickle5\n",
      "  Building wheel for pickle5 (setup.py) ... \u001B[?25l\u001B[?25hdone\n",
      "  Created wheel for pickle5: filename=pickle5-0.0.11-cp37-cp37m-linux_x86_64.whl size=219294 sha256=16ee1e00f364b3b5de1164d8b869113828c0f8b205af9f4dd6884ae66773d961\n",
      "  Stored in directory: /root/.cache/pip/wheels/7e/6a/00/67136a90d6aca437d806d1d3cedf98106e840c97a3e5188198\n",
      "Successfully built pickle5\n",
      "Installing collected packages: pickle5\n",
      "Successfully installed pickle5-0.0.11\n"
     ],
     "name": "stdout"
    }
   ]
  },
  {
   "cell_type": "code",
   "metadata": {
    "id": "OUmb1mzHd9Im"
   },
   "source": [
    "#Training preparations\n",
    "import os\n",
    "import datetime\n",
    "early_stopping_cb = keras.callbacks.EarlyStopping(patience=2, restore_best_weights=True, monitor='val_loss', mode=\"min\")\n",
    "\n",
    "logdir = os.path.join(\"logs\", datetime.datetime.now().strftime(\"%Y%m%d-%H%M%S\"))\n",
    "tensorboard_cb = tf.keras.callbacks.TensorBoard(logdir, histogram_freq=1)\n",
    "\n",
    "model_checkpoint_cb = tf.keras.callbacks.ModelCheckpoint(\n",
    "    filepath=\"/content/drive/My Drive/Ice-ring\",\n",
    "    save_weights_only=True,\n",
    "    monitor='val_loss',\n",
    "    mode='min',\n",
    "    save_best_only=True)"
   ],
   "execution_count": null,
   "outputs": []
  },
  {
   "cell_type": "code",
   "metadata": {
    "colab": {
     "base_uri": "https://localhost:8080/"
    },
    "id": "XYljKRl7eJeh",
    "outputId": "9022c558-7bb3-490e-fd24-2d6860220e1b"
   },
   "source": [
    "#Train\n",
    "history = class_model.fit(train_plot, train_label,\n",
    "                    epochs=1,\n",
    "                    validation_data=(val_plot, val_label),\n",
    "                    callbacks=[early_stopping_cb, tensorboard_cb, model_checkpoint_cb]\n",
    "                    )"
   ],
   "execution_count": null,
   "outputs": [
    {
     "output_type": "stream",
     "text": [
      "116/116 [==============================] - 32s 31ms/step - loss: 0.6945 - val_loss: 0.6934\n"
     ],
     "name": "stdout"
    }
   ]
  },
  {
   "cell_type": "markdown",
   "metadata": {
    "id": "oSka2IchNZbH"
   },
   "source": [
    "save model"
   ]
  },
  {
   "cell_type": "code",
   "metadata": {
    "colab": {
     "base_uri": "https://localhost:8080/"
    },
    "id": "S5mNHykme_KG",
    "outputId": "eabf6b72-c85e-488c-9894-3d9d7b8f88e8"
   },
   "source": [
    "class_model.save(\"class_model_Iobs\")"
   ],
   "execution_count": null,
   "outputs": [
    {
     "output_type": "stream",
     "text": [
      "INFO:tensorflow:Assets written to: /content/drive/MyDrive/clean_Helcaraxe/class_model_elenwe_Iobs_resub/assets\n"
     ],
     "name": "stdout"
    }
   ]
  }
 ]
}