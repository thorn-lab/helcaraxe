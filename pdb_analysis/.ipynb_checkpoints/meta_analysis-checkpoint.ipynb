{
 "cells": [
  {
   "cell_type": "code",
   "execution_count": 188,
   "metadata": {},
   "outputs": [],
   "source": [
    "import pandas as pd\n",
    "import matplotlib.pyplot as plt\n",
    "import numpy as np\n",
    "main_df = pd.read_pickle(\"PDB_REPORT_pkl/pdb_meta_tab.pkl\")\n",
    "main_df = main_df.reset_index(drop = True)\n",
    "#Delete all non inspected structures\n",
    "drop_ind = main_df[main_df[\"F_ice\"] == -1].index\n",
    "main_df = main_df.drop(drop_ind)"
   ]
  },
  {
   "cell_type": "code",
   "execution_count": 231,
   "metadata": {},
   "outputs": [
    {
     "data": {
      "text/plain": [
       "Int64Index([   846,   1550,   1556,   1726,   1734,   1742,   2113,   2116,\n",
       "              2869,   2876,\n",
       "            ...\n",
       "            143666, 144409, 144661, 144939, 145016, 145166, 145176, 145953,\n",
       "            146036, 146112],\n",
       "           dtype='int64', length=1702)"
      ]
     },
     "execution_count": 231,
     "metadata": {},
     "output_type": "execute_result"
    }
   ],
   "source": [
    "drop_ind = main_df[(main_df[\"Collection Temperature\"] > 273.0) & (main_df['F_ice'] > 0)].index\n",
    "#main_df = main_df.drop(drop_ind)\n",
    "drop_ind"
   ]
  },
  {
   "cell_type": "code",
   "execution_count": 232,
   "metadata": {},
   "outputs": [
    {
     "data": {
      "text/plain": [
       "Int64Index([   203,    338,    451,    638,    846,    851,    853,    873,\n",
       "               906,   1316,\n",
       "            ...\n",
       "            145794, 145803, 145953, 146021, 146036, 146046, 146052, 146089,\n",
       "            146094, 146112],\n",
       "           dtype='int64', length=5115)"
      ]
     },
     "execution_count": 232,
     "metadata": {},
     "output_type": "execute_result"
    }
   ],
   "source": [
    "main_df[(main_df[\"Collection Temperature\"] > 273.0) & (main_df['F_ice'] > -1)].index"
   ]
  },
  {
   "cell_type": "code",
   "execution_count": 174,
   "metadata": {},
   "outputs": [],
   "source": [
    "main_df.loc[main_df['I_ice'] == 1, 'I_ice'] = np.nan\n",
    "main_df.loc[main_df['F_ice'] == 1, 'F_ice'] = np.nan\n",
    "main_df.loc[main_df['I_ice'] > 0, 'I_ice'] = 1\n",
    "main_df.loc[main_df['F_ice'] > 0, 'F_ice'] = 1"
   ]
  },
  {
   "cell_type": "code",
   "execution_count": 179,
   "metadata": {},
   "outputs": [
    {
     "data": {
      "text/plain": [
       "(array([1.000e+00, 0.000e+00, 0.000e+00, 1.000e+00, 2.000e+00, 6.000e+00,\n",
       "        9.000e+00, 1.700e+01, 7.400e+01, 1.530e+02, 2.270e+02, 3.090e+02,\n",
       "        4.620e+02, 7.290e+02, 1.087e+03, 1.563e+03, 1.918e+03, 2.303e+03,\n",
       "        2.398e+03, 2.258e+03, 1.901e+03, 1.463e+03, 1.017e+03, 7.360e+02,\n",
       "        4.590e+02, 2.960e+02, 1.950e+02, 1.070e+02, 7.900e+01, 5.400e+01,\n",
       "        4.000e+01, 2.200e+01, 1.000e+01, 1.400e+01, 1.100e+01, 1.000e+01,\n",
       "        5.000e+00, 4.000e+00, 2.000e+00, 2.000e+00, 2.000e+00, 2.000e+00,\n",
       "        3.000e+00, 0.000e+00, 2.000e+00, 1.000e+00, 0.000e+00, 1.000e+00,\n",
       "        0.000e+00, 0.000e+00, 1.000e+00, 0.000e+00, 1.000e+00, 0.000e+00,\n",
       "        0.000e+00, 0.000e+00, 0.000e+00, 0.000e+00, 0.000e+00, 0.000e+00,\n",
       "        0.000e+00, 0.000e+00, 0.000e+00, 0.000e+00, 0.000e+00, 0.000e+00,\n",
       "        0.000e+00, 0.000e+00, 0.000e+00, 0.000e+00, 0.000e+00, 0.000e+00,\n",
       "        0.000e+00, 0.000e+00, 0.000e+00, 0.000e+00, 0.000e+00, 0.000e+00,\n",
       "        0.000e+00, 0.000e+00, 0.000e+00, 0.000e+00, 0.000e+00, 0.000e+00,\n",
       "        0.000e+00, 0.000e+00, 0.000e+00, 0.000e+00, 0.000e+00, 0.000e+00,\n",
       "        0.000e+00, 0.000e+00, 0.000e+00, 1.000e+00, 1.000e+00, 0.000e+00,\n",
       "        0.000e+00, 0.000e+00, 0.000e+00, 2.000e+00]),\n",
       " array([0.017  , 0.02682, 0.03664, 0.04646, 0.05628, 0.0661 , 0.07592,\n",
       "        0.08574, 0.09556, 0.10538, 0.1152 , 0.12502, 0.13484, 0.14466,\n",
       "        0.15448, 0.1643 , 0.17412, 0.18394, 0.19376, 0.20358, 0.2134 ,\n",
       "        0.22322, 0.23304, 0.24286, 0.25268, 0.2625 , 0.27232, 0.28214,\n",
       "        0.29196, 0.30178, 0.3116 , 0.32142, 0.33124, 0.34106, 0.35088,\n",
       "        0.3607 , 0.37052, 0.38034, 0.39016, 0.39998, 0.4098 , 0.41962,\n",
       "        0.42944, 0.43926, 0.44908, 0.4589 , 0.46872, 0.47854, 0.48836,\n",
       "        0.49818, 0.508  , 0.51782, 0.52764, 0.53746, 0.54728, 0.5571 ,\n",
       "        0.56692, 0.57674, 0.58656, 0.59638, 0.6062 , 0.61602, 0.62584,\n",
       "        0.63566, 0.64548, 0.6553 , 0.66512, 0.67494, 0.68476, 0.69458,\n",
       "        0.7044 , 0.71422, 0.72404, 0.73386, 0.74368, 0.7535 , 0.76332,\n",
       "        0.77314, 0.78296, 0.79278, 0.8026 , 0.81242, 0.82224, 0.83206,\n",
       "        0.84188, 0.8517 , 0.86152, 0.87134, 0.88116, 0.89098, 0.9008 ,\n",
       "        0.91062, 0.92044, 0.93026, 0.94008, 0.9499 , 0.95972, 0.96954,\n",
       "        0.97936, 0.98918, 0.999  ]),\n",
       " <BarContainer object of 100 artists>)"
      ]
     },
     "execution_count": 179,
     "metadata": {},
     "output_type": "execute_result"
    },
    {
     "data": {
      "image/png": "[encoded data removed]",
      "text/plain": [
       "<Figure size 432x288 with 1 Axes>"
      ]
     },
     "metadata": {
      "needs_background": "light"
     },
     "output_type": "display_data"
    }
   ],
   "source": [
    "plt.hist(main_df[\"R All\"], bins=100)"
   ]
  },
  {
   "cell_type": "code",
   "execution_count": null,
   "metadata": {},
   "outputs": [],
   "source": []
  }
 ],
 "metadata": {
  "kernelspec": {
   "display_name": "Python 3",
   "language": "python",
   "name": "python3"
  },
  "language_info": {
   "codemirror_mode": {
    "name": "ipython",
    "version": 3
   },
   "file_extension": ".py",
   "mimetype": "text/x-python",
   "name": "python",
   "nbconvert_exporter": "python",
   "pygments_lexer": "ipython3",
   "version": "3.8.8"
  }
 },
 "nbformat": 4,
 "nbformat_minor": 1
}
